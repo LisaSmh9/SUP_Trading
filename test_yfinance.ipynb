{
 "cells": [
  {
   "cell_type": "markdown",
   "id": "1476d6d1-3931-47bb-9c32-438b9f9666b8",
   "metadata": {
    "jp-MarkdownHeadingCollapsed": true
   },
   "source": [
    "# test Yfinance"
   ]
  },
  {
   "cell_type": "code",
   "execution_count": 1,
   "id": "78aa2e79-7424-4168-a835-c21d3ccfa396",
   "metadata": {},
   "outputs": [],
   "source": [
    "import yfinance as yf"
   ]
  },
  {
   "cell_type": "code",
   "execution_count": 2,
   "id": "9c680c77-a587-4d18-b0cc-3b11fd3f29a1",
   "metadata": {},
   "outputs": [
    {
     "name": "stdout",
     "output_type": "stream",
     "text": [
      "Symbol: ^FCHI\n",
      "Current Price: None\n",
      "Volume: None\n",
      "Previous Close: 7250.60986328125\n",
      "Open: 7259.7001953125\n",
      "Day's High: 7319.509765625\n",
      "Day's Low: 7240.77001953125\n"
     ]
    }
   ],
   "source": [
    "# Liste des entreprises du CAC 40 avec leurs symboles Yahoo Finance\n",
    "cac40_symbols = {\n",
    "    'Air Liquide': 'AI.PA',\n",
    "    'Airbus': 'AIR.PA',\n",
    "    'Alstom': 'ALO.PA',\n",
    "    'ArcelorMittal': 'MT.AS',\n",
    "    'Axa': 'CS.PA',\n",
    "    'BNP Paribas': 'BNP.PA',\n",
    "    'Bouygues': 'EN.PA',\n",
    "    'Capgemini': 'CAP.PA',\n",
    "    'Carrefour': 'CA.PA',\n",
    "    'Credit Agricole': 'ACA.PA',\n",
    "    'Danone': 'BN.PA',\n",
    "    'Dassault Systemes': 'DSY.PA',\n",
    "    'Engie': 'ENGI.PA',\n",
    "    'EssilorLuxottica': 'EL.PA',\n",
    "    'Eurofins Scientific': 'ERF.PA',\n",
    "    'Hermes International': 'RMS.PA',\n",
    "    'Kering': 'KER.PA',\n",
    "    'Legrand': 'LR.PA',\n",
    "    'L\\'Oreal': 'OR.PA',\n",
    "    'LVMH': 'MC.PA',\n",
    "    'Michelin': 'ML.PA',\n",
    "    'Orange': 'ORA.PA',\n",
    "    'Pernod Ricard': 'RI.PA',\n",
    "    'Publicis Groupe': 'PUB.PA',\n",
    "    'Renault': 'RNO.PA',\n",
    "    'Safran': 'SAF.PA',\n",
    "    'Saint-Gobain': 'SGO.PA',\n",
    "    'Sanofi': 'SAN.PA',\n",
    "    'Schneider Electric': 'SU.PA',\n",
    "    'Societe Generale': 'GLE.PA',\n",
    "    'Stellantis': 'STLA.PA',\n",
    "    'STMicroelectronics': 'STM.PA',\n",
    "    'Teleperformance': 'TEP.PA',\n",
    "    'Thales': 'HO.PA',\n",
    "    'TotalEnergies': 'TTE.PA',\n",
    "    'Unibail-Rodamco-Westfield': 'URW.AS',\n",
    "    'Veolia Environnement': 'VIE.PA',\n",
    "    'Vinci': 'DG.PA',\n",
    "    'Vivendi': 'VIV.PA',\n",
    "    'Worldline': 'WLN.PA'\n",
    "}\n",
    "\n",
    "def get_real_time_data(symbol):\n",
    "    ticker = yf.Ticker(symbol)\n",
    "    \n",
    "    # Utiliser fast_info pour des données en temps réel plus rapides\n",
    "    data = ticker.fast_info\n",
    "    \n",
    "    # Si fast_info ne fonctionne pas, utilisez info\n",
    "    if not data:\n",
    "        data = ticker.info\n",
    "    \n",
    "    real_time_price = data.get('last_price') or data.get('regularMarketPrice')\n",
    "    volume = data.get('volume') or data.get('regularMarketVolume')\n",
    "    \n",
    "    return {\n",
    "        \"Symbol\": symbol,\n",
    "        \"Current Price\": real_time_price,\n",
    "        \"Volume\": volume,\n",
    "        \"Previous Close\": data.get('previousClose'),\n",
    "        \"Open\": data.get('open'),\n",
    "        \"Day's High\": data.get('dayHigh'),\n",
    "        \"Day's Low\": data.get('dayLow')\n",
    "    }\n",
    "symbol = \"^FCHI\"  # Remplacez par le symbole de votre choix\n",
    "real_time_data = get_real_time_data(symbol)\n",
    "\n",
    "for key, value in real_time_data.items():\n",
    "    print(f\"{key}: {value}\")"
   ]
  },
  {
   "cell_type": "code",
   "execution_count": 6,
   "id": "296bbe25-d42f-458a-bec7-3acda073d60b",
   "metadata": {},
   "outputs": [
    {
     "name": "stderr",
     "output_type": "stream",
     "text": [
      "D:\\Anaconda\\envs\\suptrading\\lib\\site-packages\\yfinance\\base.py:233: DeprecationWarning: 'Ticker.basic_info' is deprecated and will be removed in future, Switch to 'Ticker.fast_info'\n",
      "  warnings.warn(\"'Ticker.basic_info' is deprecated and will be removed in future, Switch to 'Ticker.fast_info'\", DeprecationWarning)\n"
     ]
    },
    {
     "data": {
      "text/plain": [
       "lazy-loading dict with keys = ['currency', 'dayHigh', 'dayLow', 'exchange', 'fiftyDayAverage', 'lastPrice', 'lastVolume', 'marketCap', 'open', 'previousClose', 'quoteType', 'regularMarketPreviousClose', 'shares', 'tenDayAverageVolume', 'threeMonthAverageVolume', 'timezone', 'twoHundredDayAverage', 'yearChange', 'yearHigh', 'yearLow']"
      ]
     },
     "execution_count": 6,
     "metadata": {},
     "output_type": "execute_result"
    }
   ],
   "source": [
    "# Télécharger les données du CAC 40\n",
    "cac40 = yf.Ticker(\"^FCHI\")\n",
    "cac40.basic_info\n",
    "# historique = cac40.history(period=\"1mo\")\n",
    "\n",
    "# display(historique)"
   ]
  },
  {
   "cell_type": "code",
   "execution_count": 34,
   "id": "8e421150-0659-4b54-9840-4f143dd13c1e",
   "metadata": {},
   "outputs": [
    {
     "name": "stderr",
     "output_type": "stream",
     "text": [
      "D:\\Anaconda\\envs\\suptrading\\lib\\site-packages\\yfinance\\base.py:233: DeprecationWarning: 'Ticker.basic_info' is deprecated and will be removed in future, Switch to 'Ticker.fast_info'\n",
      "  warnings.warn(\"'Ticker.basic_info' is deprecated and will be removed in future, Switch to 'Ticker.fast_info'\", DeprecationWarning)\n"
     ]
    },
    {
     "data": {
      "text/plain": [
       "7241.83984375"
      ]
     },
     "execution_count": 34,
     "metadata": {},
     "output_type": "execute_result"
    }
   ],
   "source": [
    "cac40.basic_info.last_price"
   ]
  },
  {
   "cell_type": "code",
   "execution_count": 36,
   "id": "53f9dfb7-1af5-4b11-945f-50f444345b47",
   "metadata": {},
   "outputs": [
    {
     "data": {
      "text/plain": [
       "{'maxAge': 86400,\n",
       " 'priceHint': 2,\n",
       " 'previousClose': 7247.45,\n",
       " 'open': 7259.7,\n",
       " 'dayLow': 7233.69,\n",
       " 'dayHigh': 7319.51,\n",
       " 'regularMarketPreviousClose': 7247.45,\n",
       " 'regularMarketOpen': 7259.7,\n",
       " 'regularMarketDayLow': 7233.69,\n",
       " 'regularMarketDayHigh': 7319.51,\n",
       " 'averageVolume': 63217015,\n",
       " 'averageVolume10days': 70523330,\n",
       " 'averageDailyVolume10Day': 70523330,\n",
       " 'fiftyTwoWeekLow': 6773.82,\n",
       " 'fiftyTwoWeekHigh': 8259.19,\n",
       " 'fiftyDayAverage': 7608.1626,\n",
       " 'twoHundredDayAverage': 7682.5977,\n",
       " 'currency': 'EUR',\n",
       " 'exchange': 'PAR',\n",
       " 'quoteType': 'INDEX',\n",
       " 'symbol': '^FCHI',\n",
       " 'underlyingSymbol': '^FCHI',\n",
       " 'shortName': 'CAC 40',\n",
       " 'longName': 'CAC 40',\n",
       " 'firstTradeDateEpochUtc': 636278400,\n",
       " 'timeZoneFullName': 'Europe/Paris',\n",
       " 'timeZoneShortName': 'CEST',\n",
       " 'uuid': '9fd686b7-6589-309e-89b6-b088848712e5',\n",
       " 'messageBoardId': 'finmb_INDEXFCHI',\n",
       " 'gmtOffSetMilliseconds': 7200000,\n",
       " 'trailingPegRatio': None}"
      ]
     },
     "execution_count": 36,
     "metadata": {},
     "output_type": "execute_result"
    }
   ],
   "source": [
    "cac40."
   ]
  },
  {
   "cell_type": "code",
   "execution_count": 95,
   "id": "1d33cf1a-cb65-49c5-bf5f-0324a1d795e2",
   "metadata": {},
   "outputs": [
    {
     "data": {
      "text/html": [
       "<div>\n",
       "<style scoped>\n",
       "    .dataframe tbody tr th:only-of-type {\n",
       "        vertical-align: middle;\n",
       "    }\n",
       "\n",
       "    .dataframe tbody tr th {\n",
       "        vertical-align: top;\n",
       "    }\n",
       "\n",
       "    .dataframe thead th {\n",
       "        text-align: right;\n",
       "    }\n",
       "</style>\n",
       "<table border=\"1\" class=\"dataframe\">\n",
       "  <thead>\n",
       "    <tr style=\"text-align: right;\">\n",
       "      <th></th>\n",
       "      <th>Open</th>\n",
       "      <th>High</th>\n",
       "      <th>Low</th>\n",
       "      <th>Close</th>\n",
       "      <th>Volume</th>\n",
       "      <th>Dividends</th>\n",
       "      <th>Stock Splits</th>\n",
       "    </tr>\n",
       "    <tr>\n",
       "      <th>Datetime</th>\n",
       "      <th></th>\n",
       "      <th></th>\n",
       "      <th></th>\n",
       "      <th></th>\n",
       "      <th></th>\n",
       "      <th></th>\n",
       "      <th></th>\n",
       "    </tr>\n",
       "  </thead>\n",
       "  <tbody>\n",
       "    <tr>\n",
       "      <th>2024-08-09 16:47:00+02:00</th>\n",
       "      <td>7263.339844</td>\n",
       "      <td>7264.140137</td>\n",
       "      <td>7263.339844</td>\n",
       "      <td>7263.439941</td>\n",
       "      <td>0</td>\n",
       "      <td>0.0</td>\n",
       "      <td>0.0</td>\n",
       "    </tr>\n",
       "    <tr>\n",
       "      <th>2024-08-09 16:48:00+02:00</th>\n",
       "      <td>7262.250000</td>\n",
       "      <td>7262.250000</td>\n",
       "      <td>7259.950195</td>\n",
       "      <td>7262.080078</td>\n",
       "      <td>0</td>\n",
       "      <td>0.0</td>\n",
       "      <td>0.0</td>\n",
       "    </tr>\n",
       "    <tr>\n",
       "      <th>2024-08-09 16:49:00+02:00</th>\n",
       "      <td>7261.720215</td>\n",
       "      <td>7262.500000</td>\n",
       "      <td>7261.720215</td>\n",
       "      <td>7262.500000</td>\n",
       "      <td>0</td>\n",
       "      <td>0.0</td>\n",
       "      <td>0.0</td>\n",
       "    </tr>\n",
       "    <tr>\n",
       "      <th>2024-08-09 16:50:00+02:00</th>\n",
       "      <td>7262.009766</td>\n",
       "      <td>7263.140137</td>\n",
       "      <td>7262.009766</td>\n",
       "      <td>7263.140137</td>\n",
       "      <td>0</td>\n",
       "      <td>0.0</td>\n",
       "      <td>0.0</td>\n",
       "    </tr>\n",
       "    <tr>\n",
       "      <th>2024-08-09 16:51:00+02:00</th>\n",
       "      <td>7265.279785</td>\n",
       "      <td>7265.279785</td>\n",
       "      <td>7265.279785</td>\n",
       "      <td>7265.279785</td>\n",
       "      <td>0</td>\n",
       "      <td>0.0</td>\n",
       "      <td>0.0</td>\n",
       "    </tr>\n",
       "  </tbody>\n",
       "</table>\n",
       "</div>"
      ],
      "text/plain": [
       "                                  Open         High          Low        Close  \\\n",
       "Datetime                                                                        \n",
       "2024-08-09 16:47:00+02:00  7263.339844  7264.140137  7263.339844  7263.439941   \n",
       "2024-08-09 16:48:00+02:00  7262.250000  7262.250000  7259.950195  7262.080078   \n",
       "2024-08-09 16:49:00+02:00  7261.720215  7262.500000  7261.720215  7262.500000   \n",
       "2024-08-09 16:50:00+02:00  7262.009766  7263.140137  7262.009766  7263.140137   \n",
       "2024-08-09 16:51:00+02:00  7265.279785  7265.279785  7265.279785  7265.279785   \n",
       "\n",
       "                           Volume  Dividends  Stock Splits  \n",
       "Datetime                                                    \n",
       "2024-08-09 16:47:00+02:00       0        0.0           0.0  \n",
       "2024-08-09 16:48:00+02:00       0        0.0           0.0  \n",
       "2024-08-09 16:49:00+02:00       0        0.0           0.0  \n",
       "2024-08-09 16:50:00+02:00       0        0.0           0.0  \n",
       "2024-08-09 16:51:00+02:00       0        0.0           0.0  "
      ]
     },
     "execution_count": 95,
     "metadata": {},
     "output_type": "execute_result"
    }
   ],
   "source": [
    "cac40.history(period='1d', interval='1m').tail()"
   ]
  },
  {
   "cell_type": "code",
   "execution_count": 78,
   "id": "a7218f1e-425f-41eb-aace-4b2185b54506",
   "metadata": {},
   "outputs": [
    {
     "data": {
      "text/plain": [
       "7241.83984375"
      ]
     },
     "execution_count": 78,
     "metadata": {},
     "output_type": "execute_result"
    }
   ],
   "source": [
    "cac40.fast_info.last_price"
   ]
  },
  {
   "cell_type": "code",
   "execution_count": null,
   "id": "22291ba9-c34a-4c51-bd24-8b357a531fc3",
   "metadata": {},
   "outputs": [],
   "source": []
  },
  {
   "cell_type": "code",
   "execution_count": null,
   "id": "91d578df-84e1-41b9-98e1-a3a54ec51194",
   "metadata": {},
   "outputs": [],
   "source": []
  },
  {
   "cell_type": "code",
   "execution_count": null,
   "id": "f9143ef4-7adb-4b78-81bd-5f67542856a2",
   "metadata": {},
   "outputs": [],
   "source": []
  },
  {
   "cell_type": "code",
   "execution_count": null,
   "id": "a6146f89-3c86-4e30-90d2-b8239d3ec9fd",
   "metadata": {},
   "outputs": [],
   "source": []
  },
  {
   "cell_type": "code",
   "execution_count": null,
   "id": "5f6e13eb-fd58-408f-98b4-ea70d4004ec4",
   "metadata": {},
   "outputs": [],
   "source": []
  },
  {
   "cell_type": "code",
   "execution_count": null,
   "id": "aaac951e-150e-413a-adbb-d116faabab6a",
   "metadata": {},
   "outputs": [],
   "source": []
  },
  {
   "cell_type": "code",
   "execution_count": 10,
   "id": "7c568320-e82b-4f43-9d7f-661f20e7f42c",
   "metadata": {},
   "outputs": [
    {
     "name": "stdout",
     "output_type": "stream",
     "text": [
      "Symbol: ^FCHI\n",
      "Current Price: None\n",
      "Volume: None\n",
      "Previous Close: 7424.16015625\n",
      "Open: 7444.41015625\n",
      "Day's High: 7526.27001953125\n",
      "Day's Low: 7427.47021484375\n"
     ]
    }
   ],
   "source": [
    "def get_real_time_data(symbol):\n",
    "    ticker = yf.Ticker(symbol)\n",
    "    \n",
    "    # Utiliser fast_info pour des données en temps réel plus rapides\n",
    "    data = ticker.fast_info\n",
    "    \n",
    "    # Si fast_info ne fonctionne pas, utilisez info\n",
    "    if not data:\n",
    "        data = ticker.info\n",
    "    \n",
    "    real_time_price = data.get('last_price') or data.get('regularMarketPrice')\n",
    "    volume = data.get('volume') or data.get('regularMarketVolume')\n",
    "    \n",
    "    return {\n",
    "        \"Symbol\": symbol,\n",
    "        \"Current Price\": real_time_price,\n",
    "        \"Volume\": volume,\n",
    "        \"Previous Close\": data.get('previousClose'),\n",
    "        \"Open\": data.get('open'),\n",
    "        \"Day's High\": data.get('dayHigh'),\n",
    "        \"Day's Low\": data.get('dayLow')\n",
    "    }\n",
    "\n",
    "# Exemple d'utilisation\n",
    "symbol = \"^FCHI\"  # Remplacez par le symbole de votre choix\n",
    "real_time_data = get_real_time_data(symbol)\n",
    "\n",
    "for key, value in real_time_data.items():\n",
    "    print(f\"{key}: {value}\")"
   ]
  },
  {
   "cell_type": "code",
   "execution_count": 11,
   "id": "8ceef8d5-011a-4879-b0e5-61a50d7e43b7",
   "metadata": {},
   "outputs": [
    {
     "data": {
      "text/plain": [
       "lazy-loading dict with keys = ['currency', 'dayHigh', 'dayLow', 'exchange', 'fiftyDayAverage', 'lastPrice', 'lastVolume', 'marketCap', 'open', 'previousClose', 'quoteType', 'regularMarketPreviousClose', 'shares', 'tenDayAverageVolume', 'threeMonthAverageVolume', 'timezone', 'twoHundredDayAverage', 'yearChange', 'yearHigh', 'yearLow']"
      ]
     },
     "execution_count": 11,
     "metadata": {},
     "output_type": "execute_result"
    }
   ],
   "source": [
    "ticker = yf.Ticker(symbol)\n",
    "    \n",
    "# Utiliser fast_info pour des données en temps réel plus rapides\n",
    "data = ticker.fast_info\n",
    "data"
   ]
  },
  {
   "cell_type": "code",
   "execution_count": 16,
   "id": "b6113ba1-a22b-47ef-9e55-1f4bed60f64a",
   "metadata": {},
   "outputs": [
    {
     "data": {
      "text/plain": [
       "7427.02001953125"
      ]
     },
     "execution_count": 16,
     "metadata": {},
     "output_type": "execute_result"
    }
   ],
   "source": [
    "data.get('regularMarketPreviousClose')"
   ]
  },
  {
   "cell_type": "markdown",
   "id": "27100993-5d43-49cf-9747-163955fd7c7c",
   "metadata": {
    "jp-MarkdownHeadingCollapsed": true
   },
   "source": [
    "# test envoie email"
   ]
  },
  {
   "cell_type": "code",
   "execution_count": 3,
   "id": "e8ff0529-10fe-4422-a2a4-1b3838c96685",
   "metadata": {},
   "outputs": [],
   "source": [
    "import smtplib\n",
    "from email.mime.multipart import MIMEMultipart\n",
    "from email.mime.text import MIMEText"
   ]
  },
  {
   "cell_type": "code",
   "execution_count": 5,
   "id": "af11ee6e-9584-4d0e-9d73-cd3222345cad",
   "metadata": {},
   "outputs": [
    {
     "name": "stdout",
     "output_type": "stream",
     "text": [
      "E-mail envoyé avec succès !\n"
     ]
    }
   ],
   "source": [
    "def envoyer_email(expediteur, destinataire, sujet, corps, mot_de_passe):\n",
    "    # Définir le serveur SMTP et le port\n",
    "    serveur_smtp = \"smtp.office365.com\"\n",
    "    port_smtp = 587  # Port pour STARTTLS\n",
    "\n",
    "    # Créer l'objet MIMEMultipart pour l'e-mail\n",
    "    message = MIMEMultipart()\n",
    "    message['From'] = expediteur\n",
    "    message['To'] = destinataire\n",
    "    message['Subject'] = sujet\n",
    "\n",
    "    # Attacher le texte de l'e-mail\n",
    "    message.attach(MIMEText(corps, 'plain'))\n",
    "\n",
    "    try:\n",
    "        # Connexion au serveur SMTP\n",
    "        serveur = smtplib.SMTP(serveur_smtp, port_smtp)\n",
    "        serveur.starttls()  # Sécurisation de la connexion avec STARTTLS\n",
    "\n",
    "        # Authentification auprès du serveur SMTP\n",
    "        serveur.login(expediteur, mot_de_passe)\n",
    "\n",
    "        # Envoi de l'e-mail\n",
    "        texte = message.as_string()\n",
    "        serveur.sendmail(expediteur, destinataire, texte)\n",
    "        print(\"E-mail envoyé avec succès !\")\n",
    "\n",
    "    except Exception as e:\n",
    "        print(f\"Erreur lors de l'envoi de l'e-mail : {e}\")\n",
    "\n",
    "    finally:\n",
    "        # Fermeture de la connexion au serveur SMTP\n",
    "        serveur.quit()\n",
    "\n",
    "# Exemple d'utilisation de la fonction\n",
    "expediteur = \"projetetude47@outlook.com\"\n",
    "mot_de_passe = \"Projetetude8\"\n",
    "destinataire = \"kkaki5042@gmail.com\"\n",
    "sujet = \"test envoie email avec python\"\n",
    "corps = \"Ceci est un e-mail automatisé envoyé depuis Python. yes\"\n",
    "\n",
    "envoyer_email(expediteur, destinataire, sujet, corps, mot_de_passe)"
   ]
  },
  {
   "cell_type": "code",
   "execution_count": null,
   "id": "f89fcd71-73ab-4f96-b890-c4c909f5c729",
   "metadata": {},
   "outputs": [],
   "source": []
  }
 ],
 "metadata": {
  "kernelspec": {
   "display_name": "Python 3 (ipykernel)",
   "language": "python",
   "name": "python3"
  },
  "language_info": {
   "codemirror_mode": {
    "name": "ipython",
    "version": 3
   },
   "file_extension": ".py",
   "mimetype": "text/x-python",
   "name": "python",
   "nbconvert_exporter": "python",
   "pygments_lexer": "ipython3",
   "version": "3.12.4"
  }
 },
 "nbformat": 4,
 "nbformat_minor": 5
}
